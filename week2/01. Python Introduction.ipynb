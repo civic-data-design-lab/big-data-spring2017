{
 "cells": [
  {
   "cell_type": "markdown",
   "metadata": {},
   "source": [
    "# Introduction to Python "
   ]
  },
  {
   "cell_type": "markdown",
   "metadata": {},
   "source": [
    "#### Starting Steps\n",
    "\n",
    "First, create an environment that is running Python 3. We can name this anything, but name it **python3** so we can remember easily what it is.\n",
    "\n",
    "```sh\n",
    "\tconda create --name python3 python=3.6\n",
    "```\n",
    "\n",
    "Now we want to work in this environment. Activate **python3** using the following.\n",
    "\n",
    "```sh\n",
    "\tsource activate python3\n",
    "```\n",
    "\n",
    "Then launch a Jupyter notebook.\n",
    "\n",
    "```sh\n",
    "\tjupyter notebook\n",
    "```"
   ]
  },
  {
   "cell_type": "markdown",
   "metadata": {
    "slideshow": {
     "slide_type": "slide"
    }
   },
   "source": [
    "Todays lecture:\n",
    "===============\n",
    "\n",
    "* introduction to Python / IPython\n",
    "    - Syntax\n",
    "    - Libraries\n",
    "    - Datatypes \n",
    "    - Data Structures\n",
    "    - Collections\n",
    "    - Loops\n",
    "    - Flow Control"
   ]
  },
  {
   "cell_type": "markdown",
   "metadata": {},
   "source": [
    "## 1. Python:\n"
   ]
  },
  {
   "cell_type": "markdown",
   "metadata": {},
   "source": [
    "<a href=\"https://www.python.org/\">Python</a> is an increasingly popular high-level programming language. It emphasizes legibility over highly complex structure. Python innately provides simple data structures allowing for easy data manipulation. Python provides a simple approach to object-oriented programming, which in turn allows for intuitive programming, and has resulted in a large user community that has created numerous libraries that extend the basic capacities of the language. \n",
    "\n",
    "Python is an \"interpretted\" language. This means that every Python command that is executed is actually translated to lower-level programming languages. Lower-level programming languages are very fast and powerful, but writing programs in these languages can be difficult.\n",
    "\n",
    "There are two main versions of Python, these are Python 2 and Python 3. Python 3 is newer, and remove bugs and idiosyncracies of Python 2, however Python 2 is still heavily used. While the fundamentals of the two versions are the same, there are some differences (mostly syntactical) between the two and unfortunately Python 3 is NOT backwards compatible, so always double check which version of Python is being used when you work with it. In this class, we are using Python 3.\n",
    "\n",
    "There are a number of great Python tutorials available on the web, some can be found here:\n",
    "</p>\n",
    "<ul>\n",
    "    <li>\n",
    "        <a href=\"https://docs.python.org/3/tutorial/\">Python Docs Tutorial</a>\n",
    "    </li>\n",
    "    <li>\n",
    "        <a href=\"http://docs.python-guide.org/en/latest/intro/learning/\">Python Guide to Tutorials</a>\n",
    "    </li>\n",
    "</ul>\n",
    "\n",
    "There are also some excellent Python textbooks and cookbooks. A simple Amazon search will reveal many. In particular, we recommend and are using the following from the MIT Press:\n",
    "</p>\n",
    "<ul>\n",
    "    <li>\n",
    "        <a href=\"https://www.amazon.com/Introduction-Computation-Programming-Using-Python/dp/0262529629/ref=sr_1_1?ie=UTF8&qid=1485962191&sr=8-1&keywords=Introduction+to+Computation+and+Programming+Using+Python\">Guttag, John. <em>Introduction to Computation and Programming Using Python</em>. Cambridge, MA: MIT, 2016. Print.</a>\n",
    "    </li>\n",
    "</ul>"
   ]
  },
  {
   "cell_type": "markdown",
   "metadata": {
    "slideshow": {
     "slide_type": "slide"
    }
   },
   "source": [
    "## 2. Jupyter Notebooks:\n",
    "\n",
    "![IPython](images/ipython.png \"IPython\")"
   ]
  },
  {
   "cell_type": "markdown",
   "metadata": {},
   "source": [
    "<p>\n",
    "A Jupyter Notebook (formerly called iPython) is a tool for interactively writing and executing Python code. It allows the programmer to easily write and test code by allowing snippets of code and their results to be displayed side-by-side. Each snippet of code is called a \"cell\". It promotes the ease of documentation by allowing some cells to contain text, html code, images, or even Latex. Jupyter is particularly useful for Big Data computation, as it allows for parallel processing.\n",
    "</p>\n",
    "<p>Here is some Latex:</p>\n",
    "$$e^x = \\int e^x dx$$\n",
    "<p>Here is some HTML:</p>\n",
    "<table>\n",
    "    <tr>\n",
    "        <td>1</td>\n",
    "        <td>2</td>\n",
    "    </tr>\n",
    "    <tr>\n",
    "        <td>3</td>\n",
    "        <td>4</td>\n",
    "    </tr>\n",
    "</table>"
   ]
  },
  {
   "cell_type": "markdown",
   "metadata": {},
   "source": [
    "## 3. Python Libraries\n",
    "\n",
    "Python is a dynamically typed language. A language has dynamic typing when variable types are not predefined like in a compiled language; the type of a value is evaluated when the code is run, based on how you are attempting to use it. \n",
    "\n",
    "Dynamic typing and a number of other language specific characteristics, like readability and reusability, make it a very popular programming language with a large user community. However, Python on itself only provides a basic number of modules and functionality. In order to extend Python’s functionality, the active community has created a very large number of libraries. A library is a built-in or external module that can be imported into our current code to add functionality. Libraries usually take advantage of Object-Oriented-Programming, defining Python objects in additional scripts that can then be instantiated in our current code. \n",
    "\n",
    "Loading libraries into our current context can be expensive; for that reason, Python requires us to explicitly load the libraries that we want to use:\n",
    "\n",
    "```python\n",
    "import math\n",
    "```\n",
    "\n",
    "We can be more specific and import only specific classes or functions of the library:\n",
    "\n",
    "```python\n",
    "from math import pi\n",
    "```\n",
    "\n",
    "We can also change the name of the library when it gets imported:\n",
    "\n",
    "```python\n",
    "import matplotlib as plt\n",
    "```"
   ]
  },
  {
   "cell_type": "code",
   "execution_count": 1,
   "metadata": {
    "collapsed": false,
    "slideshow": {
     "slide_type": "skip"
    }
   },
   "outputs": [],
   "source": [
    "# Import Libraries for use later in script\n",
    "from IPython.display import HTML\n",
    "import math\n",
    "import matplotlib\n",
    "import numpy as np\n",
    "\n",
    "# If you get an error message stating that \"No module named ... \", quit Python using quit()\n",
    "# After quiting, install the missing library using pip. For example, in the terminal, to\n",
    "# get matplotlib, type 'conda install matplotlib'"
   ]
  },
  {
   "cell_type": "markdown",
   "metadata": {},
   "source": [
    "#### 0. Comments\n",
    "\n",
    "Comments let you document your code and are not executed. They are very useful when sharing code, or even when going back to your own code after a while. It is good practice to comment your code. We can have single or multi line comments.\n",
    "\n",
    "Single-line comments start with the hash character, # , and extend to the end of the physical line. A comment may appear at the start of a line or following whitespace or code.\n",
    "\n",
    "Multiline comments are known as docstrings. They start with “”” and end with “””. \n"
   ]
  },
  {
   "cell_type": "code",
   "execution_count": 2,
   "metadata": {
    "collapsed": false
   },
   "outputs": [
    {
     "name": "stdout",
     "output_type": "stream",
     "text": [
      "Comments worked!\n"
     ]
    }
   ],
   "source": [
    "# Firstly, this is a single-line comment.\n",
    "\n",
    "\"\"\"\n",
    "This is a \n",
    "multiline\n",
    "comment\n",
    "\"\"\"\n",
    "\n",
    "print(\"Comments worked!\")"
   ]
  },
  {
   "cell_type": "markdown",
   "metadata": {},
   "source": [
    "## 4. Python Data Structures\n",
    "\n",
    "A data structure is a way of organizing data in the computer memory. Data structures can implement one or more particular data types (ADT).  Some data structures can be built based on a basic type or basic building block. Most languages allow more complicated composite types to be recursively constructed starting from basic types.\n",
    "\n",
    "#### 1. Variables\n",
    "\n",
    "Variables allow us to store results, functions or data, to later retrieve it through its name. They give our code persistence. Compared to other programming languages, you don’t have to explicitly define a variable name or its datatype beforehand; you can create variables on the fly! Variables can also be continuously redefined. Python emphasizes legibility, and good naming practices refer specifically to the type of data you are storing."
   ]
  },
  {
   "cell_type": "code",
   "execution_count": 3,
   "metadata": {
    "collapsed": false
   },
   "outputs": [
    {
     "name": "stdout",
     "output_type": "stream",
     "text": [
      "4.0\n",
      "8.0\n",
      "3\n",
      "5\n",
      "7\n",
      "-3\n"
     ]
    }
   ],
   "source": [
    "# We can define variables without having to declare their type. We can name it whatever we want.\n",
    "x = 4.0\n",
    "print(x)\n",
    "print(x*2)\n",
    "# you can change the value of x as often as you want.\n",
    "x = 3\n",
    "print(x)\n",
    "x = x+2\n",
    "print(x)\n",
    "# the following retrieves the value stored in x, adds 2 to it, \n",
    "# and stores the result in x.\n",
    "x+=2\n",
    "print(x)\n",
    "x-=10\n",
    "print(x)"
   ]
  },
  {
   "cell_type": "code",
   "execution_count": 4,
   "metadata": {
    "collapsed": false
   },
   "outputs": [
    {
     "name": "stdout",
     "output_type": "stream",
     "text": [
      "0.8333333333333334\n",
      "<class 'float'>\n"
     ]
    }
   ],
   "source": [
    "division=5/6\n",
    "print(division)\n",
    "print(type(division))"
   ]
  },
  {
   "cell_type": "markdown",
   "metadata": {},
   "source": [
    "#### 2. Numeric Types and Their Methods\n",
    "Python implements four distinct numeric types: plain integers, long integers, floating point numbers, and complex numbers. In addition, Booleans are a subtype of plain integers.\n",
    "\n",
    "Variables can be defined based on constructing a numeric data type. Every time we define a variable with a number, we are constructing an instance of the datatype. Different datatypes have different constructors; to construct a numeric data type, you only need to type it! In general, numeric types (and data types) have methods and properties. Properties allow you to access specific data of a given object, and methods allow you to do operations with them."
   ]
  },
  {
   "cell_type": "code",
   "execution_count": 5,
   "metadata": {
    "collapsed": false
   },
   "outputs": [
    {
     "name": "stdout",
     "output_type": "stream",
     "text": [
      "3\n",
      "<class 'int'>\n"
     ]
    }
   ],
   "source": [
    "# Integers (int) are a numerical data-type. \n",
    "print(1+2)\n",
    "print(type(1+2))"
   ]
  },
  {
   "cell_type": "code",
   "execution_count": 6,
   "metadata": {
    "collapsed": false
   },
   "outputs": [
    {
     "name": "stdout",
     "output_type": "stream",
     "text": [
      "1.5\n",
      "1.0\n",
      "30.0\n",
      "3.5\n",
      "<class 'float'>\n"
     ]
    }
   ],
   "source": [
    "# Floats are another numeric type that allows for fractions.\n",
    "print(1.0+.5)\n",
    "print(3.0-2.0)\n",
    "print(6*5.0)\n",
    "print(7.0/2)\n",
    "print(type(1.0+5))"
   ]
  },
  {
   "cell_type": "markdown",
   "metadata": {},
   "source": [
    "Notice integer division and floating-point error below!"
   ]
  },
  {
   "cell_type": "code",
   "execution_count": 7,
   "metadata": {
    "collapsed": false
   },
   "outputs": [
    {
     "data": {
      "text/plain": [
       "(0.5, 0.5, 9.600000000000001)"
      ]
     },
     "execution_count": 7,
     "metadata": {},
     "output_type": "execute_result"
    }
   ],
   "source": [
    "1/2,1/2.0,3*3.2"
   ]
  },
  {
   "cell_type": "markdown",
   "metadata": {},
   "source": [
    "#### 3. Strings:\n",
    "Strings are sets of characters. We can create them by enclosing characters in quotes. Python treats single quotes the same as double quotes.\n",
    "\n",
    "Strings could be thought of as a list of characters. Therefore, we can access substrings, by using a similar syntax to the one of lists. They also have a number of methods or operations that we can perform with them. \n"
   ]
  },
  {
   "cell_type": "code",
   "execution_count": 8,
   "metadata": {
    "collapsed": false
   },
   "outputs": [
    {
     "name": "stdout",
     "output_type": "stream",
     "text": [
      "Hello World.\n",
      "This is a string.\n",
      "i\n",
      "This is a string. Another string.\n",
      "This is a string. Another string. A third string.\n"
     ]
    }
   ],
   "source": [
    "# A string is sequence of characters. \n",
    "print(\"Hello World.\")\n",
    "\n",
    "# Let's store a string in a variable called \"s\".\n",
    "# Note that using ' and \" to define strings are interchangeable.\n",
    "string = 'This is a string.'\n",
    "print(string)\n",
    "\n",
    "# We can access individual characters from the string.\n",
    "print(string[2])\n",
    "\n",
    "# You can add strings together\n",
    "string = string + \" Another string.\"\n",
    "print(string)\n",
    "string+=\" A third string.\"\n",
    "print(string)"
   ]
  },
  {
   "cell_type": "markdown",
   "metadata": {},
   "source": [
    "#### 4. Booleans\n",
    "Booleans are binary datatypes. They have 2 values: **True** and **False** (or 1 and 0). Booleans are useful when testing for truth value; we can test them in an **if** or **while** condition or as operand of Boolean operations. "
   ]
  },
  {
   "cell_type": "code",
   "execution_count": 9,
   "metadata": {
    "collapsed": false
   },
   "outputs": [
    {
     "name": "stdout",
     "output_type": "stream",
     "text": [
      "True\n"
     ]
    }
   ],
   "source": [
    "# booleans, or bools, are another data type. They can hold only two \n",
    "# possible values: True or False.\n",
    "is_true = True\n",
    "print(is_true)"
   ]
  },
  {
   "cell_type": "code",
   "execution_count": 10,
   "metadata": {
    "collapsed": false
   },
   "outputs": [
    {
     "name": "stdout",
     "output_type": "stream",
     "text": [
      "True\n",
      "False\n",
      "False\n",
      "True\n",
      "True\n",
      "False\n"
     ]
    }
   ],
   "source": [
    "# There are several functions that act on booleans.\n",
    "# Let x and y be variables storing booleans.\n",
    "# \"Not x\" switches the value of x. If x is True, then \"not x\" is False.\n",
    "# \"x and y\" returns True if x and y are True.\n",
    "# \"x or y\" returns True if x or y are True.\n",
    "x = True\n",
    "y = False\n",
    "print(x)\n",
    "print(not x)\n",
    "print(x and y)\n",
    "print(x and not y)\n",
    "print(x or y)\n",
    "print(not x or y)"
   ]
  },
  {
   "cell_type": "code",
   "execution_count": 11,
   "metadata": {
    "collapsed": false
   },
   "outputs": [
    {
     "name": "stdout",
     "output_type": "stream",
     "text": [
      "False\n",
      "True\n",
      "True\n",
      "True\n",
      "False\n",
      "2\n",
      "2\n",
      "True\n"
     ]
    }
   ],
   "source": [
    "# There are functions to make comparisons between valuables and produce bools. \n",
    "# '==' tests for equality\n",
    "print(1 == 2)\n",
    "print(1 == 1)\n",
    "# '!=' tests for inequality\n",
    "print(1 != 2)\n",
    "# comparison functions also apply to strings\n",
    "print(\"abcd\" == \"abcd\")\n",
    "# Pointers and their values can be compared.\n",
    "x = 1\n",
    "y = 2\n",
    "# compare values of pointers\n",
    "print(x == y)\n",
    "# set x and y to be the same pointer \n",
    "x = y\n",
    "print(x)\n",
    "print(y)\n",
    "# check if x and y are THE SAME POINTER using the 'is' function.\n",
    "print(x is y)"
   ]
  },
  {
   "cell_type": "markdown",
   "metadata": {},
   "source": [
    "#### 5. Flow Control\n",
    "Python is an imperative programming language. In computer science, imperative programming is a programming paradigm that uses statements that change a program's state. The different states are executed based on a number of rules. We can control the flow of the program through a number of structures. In python there are three main categories of program control flow:\n",
    "\n",
    "* loops\n",
    "* branches\n",
    "* function calls\n",
    "\n",
    "Booleans can be used to control the flow of execution of the code. If-statements execute a section of code if a given bool evaluates to True. There is a specific syntax for booleans, including indentations. "
   ]
  },
  {
   "cell_type": "code",
   "execution_count": 12,
   "metadata": {
    "collapsed": false
   },
   "outputs": [
    {
     "name": "stdout",
     "output_type": "stream",
     "text": [
      "Flag is True.\n",
      "1\n",
      "B\n"
     ]
    }
   ],
   "source": [
    "flag = True\n",
    "x = 0\n",
    "if flag:\n",
    "    x = 1\n",
    "    print(\"Flag is True.\")\n",
    "else:\n",
    "    x = 2\n",
    "    print(\"Flag is False.\")\n",
    "print(x)\n",
    "# We can check for other cases as well. Controlling the execution of code\n",
    "# like this is referred to as \"flow of control\".\n",
    "if x == 0:\n",
    "    print(\"A\")\n",
    "elif x == 1:\n",
    "    print('B')\n",
    "else:\n",
    "    print(\"C\")"
   ]
  },
  {
   "cell_type": "markdown",
   "metadata": {},
   "source": [
    "#### 6. Lists \n",
    "Lists are a data structure designed for easy storage and access to data. They are initialized using by using \"**[ ]**\" to enclose a comma separated sequence of values. These values can be anything. Lists can contain the same type of values, or a heterogeneous mix of values.  We can access individual elements of a list, a subset of elements, or the whole list. Lists are mutable: we can modify their elements.\n",
    "\n",
    "Python deals with multiple data structures in a similar manner. For example lists, dictionaries, files, and and iterators work similarly.\n"
   ]
  },
  {
   "cell_type": "code",
   "execution_count": 13,
   "metadata": {
    "collapsed": false
   },
   "outputs": [
    {
     "name": "stdout",
     "output_type": "stream",
     "text": [
      "[1, 2]\n",
      "[1, 2, 'a', 'b', 'c', ['a', 'b', 'c']]\n",
      "a\n",
      "b\n",
      "e\n",
      "d\n",
      "['a', 'b']\n",
      "['c', 'd']\n",
      "range(0, 10)\n",
      "range(2, 10)\n",
      "range(4, 10, 2)\n",
      "10\n"
     ]
    }
   ],
   "source": [
    "L1 = [] # an empty list\n",
    "x = 5\n",
    "L2 = [1,2.0,'a',\"abcd\",True,x] # a list containing different values\n",
    "# lists can be built dynamically (aka on the fly) using \"append\" and \n",
    "# \"extend\".\n",
    "L1.append(1)\n",
    "L1.append(2)\n",
    "print(L1)\n",
    "L3 = ['a','b','c']\n",
    "L1.extend(L3)\n",
    "L1.append(L3)\n",
    "print(L1)\n",
    "# Values stored in lists are accessible by their index in the list. \n",
    "# Lists maintain the ordering in which values were stored in them.\n",
    "# We use \"[i]\" to retrieve the i-th element in a list.\n",
    "# Note that the first element in a list in Python has index 0.\n",
    "L = ['a','b','c','d','e']\n",
    "print(L[0])\n",
    "print(L[1])\n",
    "# We can access from the ends of lists as well.\n",
    "print(L[-1])\n",
    "print(L[-2])\n",
    "# We can access chunks of a list to produce sub-lists.\n",
    "print(L[:2])\n",
    "print(L[2:4])\n",
    "#print [1,2]+['a','b']\n",
    "# There is a useful function for producing sequences of numbers.\n",
    "print(range(10))\n",
    "print(range(2,10))\n",
    "print(range(4,10,2))\n",
    "# The length of a list can be calculated using \"len()\"\n",
    "print(len(range(10)))"
   ]
  },
  {
   "cell_type": "markdown",
   "metadata": {},
   "source": [
    "Lists can also be constructed through a functional programming idiom called list comprehension."
   ]
  },
  {
   "cell_type": "code",
   "execution_count": 14,
   "metadata": {
    "collapsed": false
   },
   "outputs": [
    {
     "data": {
      "text/plain": [
       "[1, 4, 9, 16, 25]"
      ]
     },
     "execution_count": 14,
     "metadata": {},
     "output_type": "execute_result"
    }
   ],
   "source": [
    "alist=[1,2,3,4,5]\n",
    "asquaredlist=[i*i for i in alist]\n",
    "asquaredlist"
   ]
  },
  {
   "cell_type": "markdown",
   "metadata": {},
   "source": [
    "#### 7. Dictionaries\n",
    "Dictionaries, called \"dicts\" for short, allow you to store values by providing identifying keys and values. They always have key/value pairs. Dicts are initialized using \"{}\". Placing a comma-separated list of **key:value** pairs within the braces adds initial **key:value** pairs to the dictionary. Dictionaries are indexed by keys instead of numeric indices. \n",
    "\n",
    "It is best to think of a dictionary as an unordered set of key: value pairs, with the requirement that the keys are unique (within one dictionary). \n",
    "\n",
    "The **keys()** method of a dictionary object returns a list of all the keys used in the dictionary, in arbitrary order. To check whether a single key is in the dictionary, use the **in** keyword.\n"
   ]
  },
  {
   "cell_type": "code",
   "execution_count": 15,
   "metadata": {
    "collapsed": false
   },
   "outputs": [
    {
     "name": "stdout",
     "output_type": "stream",
     "text": [
      "{'key1': 1, 'key2': 'moose', 4: 5}\n",
      "{'key1': 1, 'key2': 'moose', 4: 5, 6: False}\n",
      "moose\n",
      "False\n",
      "Dicts are fun.\n",
      "keys: ['key1', 'key2', 4, 6]\n",
      "values: [1, 'moose', 5, False]\n"
     ]
    }
   ],
   "source": [
    "D = {} # an empty dict\n",
    "D2 = {'key1':1,'key2':\"moose\",4:5}\n",
    "print(D2)\n",
    "# Key-value pairs can also be defined like this\n",
    "D2[6] = False\n",
    "print(D2)\n",
    "# values can be retrieved using their keys.\n",
    "print(D2['key2'])\n",
    "print(D2[6])\n",
    "\n",
    "# can be used in conditionals\n",
    "if not D2[6]: # evaluates to false\n",
    "    print(\"Dicts are fun.\")\n",
    "else:\n",
    "    print(\"Dicts are not that fun.\")\n",
    "    \n",
    "# The keys and values of dicts can be accessed as lists.\n",
    "print(\"keys: \"+str(list(D2.keys())))\n",
    "print(\"values: \"+str(list(D2.values())))"
   ]
  },
  {
   "cell_type": "code",
   "execution_count": 16,
   "metadata": {
    "collapsed": false
   },
   "outputs": [
    {
     "name": "stdout",
     "output_type": "stream",
     "text": [
      "{'one': 1, 'two': 2, 'three': 3}\n",
      "1\n",
      "['one', 'two', 'three']\n",
      "[('one', 1), ('two', 2), ('three', 3)]\n",
      "2\n",
      "['one', 'two', 'three']\n"
     ]
    }
   ],
   "source": [
    "adict={'one':1, 'two': 2, 'three': 3}\n",
    "print(adict)\n",
    "print(adict['one'])\n",
    "print([i for i in adict])\n",
    "\n",
    "print([(k,v) for k,v in adict.items()])\n",
    "\n",
    "playlist = (list(adict.values()))\n",
    "print(playlist[1])\n",
    "print(list(adict.keys()))"
   ]
  },
  {
   "cell_type": "markdown",
   "metadata": {},
   "source": [
    "The keys do not have to be strings. You can use dictionary comprehensions as well"
   ]
  },
  {
   "cell_type": "code",
   "execution_count": 17,
   "metadata": {
    "collapsed": false
   },
   "outputs": [
    {
     "data": {
      "text/plain": [
       "{0: 0, 1: 1, 2: 2, 3: 3, 4: 4}"
      ]
     },
     "execution_count": 17,
     "metadata": {},
     "output_type": "execute_result"
    }
   ],
   "source": [
    "mydict={k:v for (k,v) in zip(range(5), range(5))}\n",
    "mydict"
   ]
  },
  {
   "cell_type": "markdown",
   "metadata": {},
   "source": [
    "You can construct then nicely using the function `dict`."
   ]
  },
  {
   "cell_type": "code",
   "execution_count": 18,
   "metadata": {
    "collapsed": false
   },
   "outputs": [
    {
     "data": {
      "text/plain": [
       "{'a': 1, 'b': 2}"
      ]
     },
     "execution_count": 18,
     "metadata": {},
     "output_type": "execute_result"
    }
   ],
   "source": [
    "dict(a=1, b=2)"
   ]
  },
  {
   "cell_type": "markdown",
   "metadata": {},
   "source": [
    "#### Dictionary to JSON\n",
    "A **JSON** (JavaScript Object Notation) is a lightweight data-interchange format that is quite standard across the web. It is highly readable and easy for machines to parse and generate. It is very similar to a Python dictionary. However, a dictionary is a python object, while a JSON is a set of characters. We can convert a dictionary into a JSON very easily with a built-in Python module.\n",
    "\n",
    "* JavaScript Object Notation\n",
    "* human readable\n",
    "* transmit attribute-value pairs"
   ]
  },
  {
   "cell_type": "code",
   "execution_count": 19,
   "metadata": {
    "collapsed": false
   },
   "outputs": [
    {
     "name": "stdout",
     "output_type": "stream",
     "text": [
      "{'a': 1, 'b': 2}\n",
      "{\"a\": 1, \"b\": 2}\n",
      "{'a': 1, 'b': 2}\n"
     ]
    }
   ],
   "source": [
    "import json\n",
    "\n",
    "a = {'a': 1, 'b':2}\n",
    "s = json.dumps(a)\n",
    "a2 = json.loads(s)\n",
    "\n",
    "## a is a dictionary\n",
    "print(a)\n",
    "## vs s is a string containing a in JSON encoding\n",
    "print(s)\n",
    "## reading back the keys are now in unicode\n",
    "print(a2)"
   ]
  },
  {
   "cell_type": "markdown",
   "metadata": {},
   "source": [
    "#### 8. Iteration\n",
    "Loops allow us to automate repetitive tasks. The repeated execution of a set of statements is called iteration. There are a number of way to iterate in Python. We can use **for** loops or **while** loops too. The syntax is like the syntax of if-statements. The **for** loop loops over each of the elements of a list or iterator, assigning the current element to the variable name given. A **while** loop repeats a sequence of statements until some condition becomes false. \n"
   ]
  },
  {
   "cell_type": "code",
   "execution_count": 20,
   "metadata": {
    "collapsed": false
   },
   "outputs": [
    {
     "name": "stdout",
     "output_type": "stream",
     "text": [
      "range(0, 10)\n"
     ]
    }
   ],
   "source": [
    "X = range(10)\n",
    "print(X)"
   ]
  },
  {
   "cell_type": "code",
   "execution_count": 21,
   "metadata": {
    "collapsed": false
   },
   "outputs": [
    {
     "name": "stdout",
     "output_type": "stream",
     "text": [
      "0\n",
      "1\n",
      "2\n",
      "3\n",
      "4\n",
      "5\n",
      "6\n",
      "7\n",
      "8\n",
      "9\n"
     ]
    }
   ],
   "source": [
    "for x in X:\n",
    "    print(x)"
   ]
  },
  {
   "cell_type": "code",
   "execution_count": 22,
   "metadata": {
    "collapsed": false
   },
   "outputs": [
    {
     "name": "stdout",
     "output_type": "stream",
     "text": [
      "0\n",
      "2\n",
      "4\n",
      "6\n",
      "8\n",
      "10\n",
      "12\n",
      "14\n",
      "16\n",
      "18\n",
      "range(0, 10)\n"
     ]
    }
   ],
   "source": [
    "for i in X:\n",
    "    # doubles the list element\n",
    "    print(X[i]*2)\n",
    "\n",
    "print(X)"
   ]
  },
  {
   "cell_type": "markdown",
   "metadata": {},
   "source": [
    "We can control the execution of a loop through different statements. Python includes statements to exit a loop prematurely. To exit a loop, use the **break** statement. The loop below is a for loop."
   ]
  },
  {
   "cell_type": "code",
   "execution_count": 23,
   "metadata": {
    "collapsed": false
   },
   "outputs": [
    {
     "name": "stdout",
     "output_type": "stream",
     "text": [
      "0\n",
      "1\n",
      "2\n",
      "3\n",
      "4\n",
      "5\n",
      "6\n"
     ]
    }
   ],
   "source": [
    "for i in range(10):\n",
    "    print(i)\n",
    "    if (i > 5):\n",
    "        break # breaks out of the loop when it gets a number higher than five"
   ]
  },
  {
   "cell_type": "markdown",
   "metadata": {},
   "source": [
    "While loops are also supported. **continue** continues to the next iteration of the loop skipping all the code below, while **break** breaks out of it."
   ]
  },
  {
   "cell_type": "code",
   "execution_count": 24,
   "metadata": {
    "collapsed": false
   },
   "outputs": [
    {
     "name": "stdout",
     "output_type": "stream",
     "text": [
      "0\n",
      "1\n",
      "2\n",
      "3\n",
      "4\n"
     ]
    }
   ],
   "source": [
    "i=0\n",
    "while i < 10:\n",
    "    print(i)\n",
    "    i=i+1\n",
    "    if i < 5:\n",
    "        continue\n",
    "    else:\n",
    "        break"
   ]
  },
  {
   "cell_type": "markdown",
   "metadata": {},
   "source": [
    "You can iterate through lists."
   ]
  },
  {
   "cell_type": "code",
   "execution_count": 25,
   "metadata": {
    "collapsed": false
   },
   "outputs": [
    {
     "name": "stdout",
     "output_type": "stream",
     "text": [
      "This\n",
      "0\n",
      "is\n",
      "1\n",
      "Python\n",
      "2\n"
     ]
    }
   ],
   "source": [
    "myList = [\"This\", \"is\", \"Python\"]\n",
    "for i in myList:\n",
    "    print(i) # print the value\n",
    "    print(myList.index(i)) # print the position of the value (index)\n"
   ]
  },
  {
   "cell_type": "markdown",
   "metadata": {},
   "source": [
    "Build a list that contains all the courses that you are taking this semester, and print them. Every time you print a course number add the phrase `In Spring 2017, I am taking:`"
   ]
  },
  {
   "cell_type": "code",
   "execution_count": 26,
   "metadata": {
    "collapsed": true
   },
   "outputs": [],
   "source": [
    "# Your code here\n"
   ]
  },
  {
   "cell_type": "markdown",
   "metadata": {},
   "source": [
    "#### 9. Functions\n",
    "Functions allow a programmer to write reusable code to perform a single action. Functions provide better modularity for your application and a high degree of code reusing. Once a function is defined, it can be called by typing the name of the function and passing the arguments. For example, Python gives you many built-in functions like **print()**.  Functions can just perform an operation, or they can return values.\n",
    "\n",
    "Functions are defined using the key work **def**.\n"
   ]
  },
  {
   "cell_type": "code",
   "execution_count": 27,
   "metadata": {
    "collapsed": false
   },
   "outputs": [
    {
     "name": "stdout",
     "output_type": "stream",
     "text": [
      "4950\n",
      "4950\n",
      "1235\n",
      "4950\n",
      "4960\n",
      "505685\n"
     ]
    }
   ],
   "source": [
    "#consider this example:\n",
    "# First choose an initial value for x.\n",
    "x = 0\n",
    "for i in range(100):\n",
    "    x+=i\n",
    "print(x)\n",
    "\n",
    "# What if we do this for a new initial value for x? \n",
    "# What if we use a different number instead of 100?\n",
    "# We don't want to rewrite this for loop every time. \n",
    "# Let's define a function.\n",
    "def ForSum(x,y):\n",
    "    for i in range(y):\n",
    "        x+=i\n",
    "    # \"return\" indicates what values to output\n",
    "    return x\n",
    "\n",
    "# Same calculation from above\n",
    "print(ForSum(0,100))\n",
    "print(ForSum(10,50)) # Now with new numbers\n",
    "\n",
    "# Interestingly, pointers can store functions. This means that functions\n",
    "# can be inputs to other functions.\n",
    "F = ForSum\n",
    "print(F(0,100))\n",
    "\n",
    "def execute(funct,x):\n",
    "    return funct(x,100)\n",
    "\n",
    "print(execute(F,10))\n",
    "\n",
    "# Now, just for fun:\n",
    "print(F(F(F(10,100),50),1000))"
   ]
  },
  {
   "cell_type": "code",
   "execution_count": 28,
   "metadata": {
    "collapsed": false
   },
   "outputs": [
    {
     "name": "stdout",
     "output_type": "stream",
     "text": [
      "Mike\n",
      "Not Mike\n"
     ]
    }
   ],
   "source": [
    "def print_words(x=\"THIS\",y=\"Not Mike\"):\n",
    "    print(x)\n",
    "    print(y)\n",
    "\n",
    "x = \"Mike\"\n",
    "y = \"Something else\"\n",
    "    \n",
    "print_words(x)"
   ]
  },
  {
   "cell_type": "markdown",
   "metadata": {},
   "source": [
    "Now, wrap the code you created for the previous section in a function called `course_printer`."
   ]
  },
  {
   "cell_type": "code",
   "execution_count": 29,
   "metadata": {
    "collapsed": true
   },
   "outputs": [],
   "source": [
    "# Your code here:\n"
   ]
  },
  {
   "cell_type": "markdown",
   "metadata": {},
   "source": [
    "Series and numpy lists behave similarly as well.\n",
    "\n",
    "\n",
    "#### Vectorization\n",
    "\n",
    "Numpy arrays are a bit different from regular python lists, and are the bread and butter of data science. Pandas Series are built atop them. \n",
    "\n",
    "In other words, operations on numpy arrays, and by extension, Pandas Series, are **vectorized**. You can add two numpy lists by just using `+` whereas the result isnt what you might expect for regular python lists. To add regular python lists elementwise, you will need to use a loop:"
   ]
  },
  {
   "cell_type": "code",
   "execution_count": 30,
   "metadata": {
    "collapsed": false
   },
   "outputs": [
    {
     "data": {
      "text/plain": [
       "[2, 4, 6, 8, 10]"
      ]
     },
     "execution_count": 30,
     "metadata": {},
     "output_type": "execute_result"
    }
   ],
   "source": [
    "newlist=[]\n",
    "for item in alist:\n",
    "    newlist.append(item+item)\n",
    "newlist"
   ]
  },
  {
   "cell_type": "markdown",
   "metadata": {},
   "source": [
    "**Vectorization** is a powerful idiom, and we will use it a lot in this class. And, for almost all data intensive computing, we will use numpy arrays rather than python lists, as the python numerical stack is based on it. \n",
    "\n",
    "You have seen this in idea in spreadsheets where you add an entire column to another one.\n",
    "\n",
    "Two final examples"
   ]
  },
  {
   "cell_type": "code",
   "execution_count": 31,
   "metadata": {
    "collapsed": false
   },
   "outputs": [
    {
     "name": "stdout",
     "output_type": "stream",
     "text": [
      "<class 'numpy.ndarray'>\n",
      "[ 1  4  9 16 25]\n"
     ]
    }
   ],
   "source": [
    "a=np.array([1,2,3,4,5])\n",
    "print(type(a))\n",
    "b=np.array([1,2,3,4,5])\n",
    "\n",
    "print(a*b)"
   ]
  },
  {
   "cell_type": "code",
   "execution_count": null,
   "metadata": {
    "collapsed": true
   },
   "outputs": [],
   "source": []
  }
 ],
 "metadata": {
  "kernelspec": {
   "display_name": "Python 3",
   "language": "python",
   "name": "python3"
  },
  "language_info": {
   "codemirror_mode": {
    "name": "ipython",
    "version": 3
   },
   "file_extension": ".py",
   "mimetype": "text/x-python",
   "name": "python",
   "nbconvert_exporter": "python",
   "pygments_lexer": "ipython3",
   "version": "3.5.1"
  }
 },
 "nbformat": 4,
 "nbformat_minor": 0
}
