{
 "cells": [
  {
   "cell_type": "markdown",
   "metadata": {},
   "source": [
    "# Problem Set 1: Intro to Python\n",
    "This problem set is meant to create a good foundation of programming. We emphasize code readability and reusability over performance. Code performance can be measured in many different ways, and is by no means the focus of this course, however, we expect your code to be non-repetitive, clean, and efficient enough to deal with medium-to-large datasets. As we move forward with the course, you will be introduced to some functional programming techniques, iterators, and objects that will help speed-up the data munging of the type of data sets that we will be dealing with. \n",
    "\n",
    "`Throughout the course you will be using multiple online resources to help you solve the assignments, we do too. However, if you are using other people’s code, make sure to credit the source, and come up with your own implementation. In this problem set, you are welcome to refer to online resources and documentation. One of the primary ones you will find you use is:` [Stack Overflow]( http://stackoverflow.com/)."
   ]
  },
  {
   "cell_type": "markdown",
   "metadata": {},
   "source": [
    "## 1. Lists\n",
    "Do the following:\n",
    "1. Create a list containing any 4 strings.\n",
    "2. Print the 3rd item in the list\n",
    "3. Print the 1st and 2nd item in the list using [:] index slicing.\n",
    "4. Add a new string with text “last” to the end of the list and print the list.\n",
    "5. Get the list length and print it.\n",
    "6. Replace the last item in the list with the string “new” and print\n"
   ]
  },
  {
   "cell_type": "code",
   "execution_count": 1,
   "metadata": {
    "collapsed": false
   },
   "outputs": [
    {
     "name": "stdout",
     "output_type": "stream",
     "text": [
      "pizza\n",
      "['Do', 'you']\n",
      "['Do', 'you', 'love', 'pizza', 'text']\n",
      "5\n",
      "['Do', 'you', 'love', 'pizza', 'new']\n"
     ]
    }
   ],
   "source": [
    "myList = [\"Do\", \"you\", \"love\", \"pizza\"]\n",
    "print (myList[3])\n",
    "print (myList[:2])\n",
    "myList.append(\"text\")\n",
    "print (myList)\n",
    "print (len(myList))\n",
    "myList[4] = \"new\"\n",
    "print (myList)"
   ]
  },
  {
   "cell_type": "markdown",
   "metadata": {},
   "source": [
    "## 2. Strings \n",
    "Given the following list of words:\n",
    "```Python\n",
    "list1=['I', 'am', 'learning','Python','to','munge','large','datasets','and','visualize','them']\n",
    "```\n",
    "1. Convert the list into a normal sentence with [`join()`](https://docs.python.org/2/library/stdtypes.html#str.join), then print.\n",
    "2. [**Reverse**](https://docs.python.org/release/2.3.5/whatsnew/section-slices.html) the order of this list `[“them”,”visualize”,…]`\n",
    "3. Now [**sort**](https://docs.python.org/2/library/functions.html#sorted) the list using the default sort order in python\n",
    "4. Modify the sort to do a case [**insensitive**](http://matthiaseisen.com/pp/patterns/p0005/) alphabetic sort\n",
    "5. Now print the list in reverse alphabetic sort order\n"
   ]
  },
  {
   "cell_type": "code",
   "execution_count": 2,
   "metadata": {
    "collapsed": false
   },
   "outputs": [
    {
     "name": "stdout",
     "output_type": "stream",
     "text": [
      "I am learning Python to munge large datasets and visualize them\n",
      "['them', 'visualize', 'and', 'datasets', 'large', 'munge', 'to', 'Python', 'learning', 'am', 'I']\n",
      "['I', 'Python', 'am', 'and', 'datasets', 'large', 'learning', 'munge', 'them', 'to', 'visualize']\n",
      "['am', 'and', 'datasets', 'I', 'large', 'learning', 'munge', 'Python', 'them', 'to', 'visualize']\n",
      "['visualize', 'to', 'them', 'Python', 'munge', 'learning', 'large', 'I', 'datasets', 'and', 'am']\n"
     ]
    }
   ],
   "source": [
    "list1=['I', 'am', 'learning','Python','to','munge','large','datasets','and','visualize','them']\n",
    "sentence = \" \".join(list1)\n",
    "print (sentence)\n",
    "print (list1[::-1])\n",
    "print (sorted(list1))\n",
    "alphlist = sorted(list1, key=lambda x: x.lower())\n",
    "print (alphlist)\n",
    "print (alphlist[::-1])"
   ]
  },
  {
   "cell_type": "markdown",
   "metadata": {},
   "source": [
    "## 3. Random Function\n",
    "Here is a python snippet for generating a random integer:\n",
    "\n",
    "```Python\n",
    "import random\n",
    "# this returns random integer: 100 <= number <= 1000 \n",
    "num = random.randint(100, 1000)\n",
    "```\n",
    "\n",
    "* Implement your own random function that builds on this python function, returning an integer between a low and a high number supplied by the user, but that can be called with the low number optional (default to 0).\n",
    "\n",
    "* Test your function by adding the following 2 assert statements to your file (replace myrandom and low with the names you used). The [`assert`](https://docs.python.org/2/reference/simple_stmts.html#assert) statement helps you debug, by testing if a statement is true. \n",
    "\n",
    "```Python\n",
    "assert(0 <= myrandom(100) <= 100)\n",
    "assert(50 <= myrandom(100,low=50) <= 100)\n",
    "```\n",
    "\n",
    "\n",
    "1. Inputs: \n",
    "  1. Two `integers` that will be used as lower and upper bounds of the function. \n",
    "2. Outputs: \n",
    "  1. A random number within the established bounds. "
   ]
  },
  {
   "cell_type": "code",
   "execution_count": 4,
   "metadata": {
    "collapsed": false
   },
   "outputs": [
    {
     "name": "stdout",
     "output_type": "stream",
     "text": [
      "40\n"
     ]
    }
   ],
   "source": [
    "import random\n",
    "\n",
    "\"\"\"Variables used as ranges for getting high and low numbers for random function.\"\"\"\n",
    "highmin = 10\n",
    "highmax = 100\n",
    "lowmin = 1\n",
    "lowmax = 10\n",
    "\n",
    "def getrandom (high, low=0):\n",
    "    num = random.randint(low, high)\n",
    "    print (num)\n",
    "\n",
    "\"\"\"Uses function random to gets random value for var \"high.\"\n",
    "If \"high\" is odd, \"low\" is not initialized.\n",
    "If \"high\" is even, \"low\" is initialized.\n",
    "\"\"\"\n",
    "\n",
    "high = random.randint(highmin, highmax)\n",
    "if high%2 == 0:\n",
    "    low = random.randint(lowmin, lowmax)\n",
    "    getrandom (high, low)\n",
    "else:\n",
    "    getrandom (high)\n",
    "\n",
    "    "
   ]
  },
  {
   "cell_type": "markdown",
   "metadata": {},
   "source": [
    "## 4. String Formatting Function \n",
    "Write a function that expects 2 inputs from the command line. The first is a title that may be multiple words, the second is a number. Given these inputs print the following string (replacing N and Title with the dynamic values passed in to the script each time it runs).\n",
    "\n",
    "`The number N bestseller today is: Title` \n",
    "\n",
    "* If not already title-cased, the function should **title-case** the string. \n",
    "* Build one function making the first input optional (keeping the 2nd required).\n",
    "* Build another function making the second input optional (keeping the 1st required).\n",
    "* Build a third function making both inputs optional.\n"
   ]
  },
  {
   "cell_type": "code",
   "execution_count": 5,
   "metadata": {
    "collapsed": false
   },
   "outputs": [
    {
     "name": "stdout",
     "output_type": "stream",
     "text": [
      "Testing function bestseller1\n",
      "The number 3 bestseller today is: Old Man And The Sea\n",
      "The number ? bestseller today is: Old Man And The Sea\n",
      "Testing function bestseller2\n",
      "The number 3 bestseller today is: Old Man And The Sea\n",
      "The number 3 bestseller today is: Unknown\n",
      "Testing function bestseller3\n",
      "The number 3 bestseller today is: Old Man And The Sea\n",
      "The number ? bestseller today is: Unknown\n"
     ]
    }
   ],
   "source": [
    "#test variables:\n",
    "Title = \"Old man and the sea\"\n",
    "N=3\n",
    "\n",
    "def bestseller1 (Title, N=\"?\"):\n",
    "    Title=Title.title()\n",
    "    N=str(N)\n",
    "    print (\"The number \"+ N + \" bestseller today is: \" + Title)\n",
    "    \n",
    "def bestseller2 (N, Title=\"unknown\"):\n",
    "    Title=Title.title()\n",
    "    N=str(N)\n",
    "    print (\"The number \"+ N + \" bestseller today is: \" + Title)\n",
    "    \n",
    "def bestseller3 (Title=\"unknown\", N=\"?\"):\n",
    "    Title=Title.title()\n",
    "    N=str(N)\n",
    "    print (\"The number \"+ N + \" bestseller today is: \" + Title)\n",
    "    \n",
    "print (\"Testing function bestseller1\")    \n",
    "bestseller1 (Title, N)\n",
    "bestseller1 (Title)\n",
    "print (\"Testing function bestseller2\")\n",
    "bestseller2 (N, Title)\n",
    "bestseller2 (N)\n",
    "print (\"Testing function bestseller3\")\n",
    "bestseller3 (Title, N)\n",
    "bestseller3 ()"
   ]
  },
  {
   "cell_type": "markdown",
   "metadata": {},
   "source": [
    "## 5. Password Validation Function \n",
    "Write a password validation function. Ask the user to input a password that meets the criteria listed below. You can either use the **Python** [`input`](https://docs.python.org/3/library/functions.html#input) built-in function, or just pass the password as a function argument. Validate that the user’s password matches this criteria. After 3 bad tries, quit with an error message. If password is valid, print a helpful success message.\n",
    "\n",
    "* password length must be 8-14 characters\n",
    "* password must contain at least 2 digits\n",
    "* password must contain at least 1 uppercase letter\n",
    "* password must contain at least 1 special character from this set !@#$%^&*()-_+=\n",
    "\n",
    "\n",
    "\n",
    "1. Inputs: \n",
    "  1. A `string` that will be tested for the password requirements. The string can be passed as an argument to the function, or as an input through the `input` function.\n",
    "2. Outputs: \n",
    "  1. A **success** message if the password works, otherwise an **error** message. \n"
   ]
  },
  {
   "cell_type": "code",
   "execution_count": null,
   "metadata": {
    "collapsed": false
   },
   "outputs": [],
   "source": [
    "#set static variables here\n",
    "special_chars = \"!@#$%^&*()-_+=\"\n",
    "min_length = 8\n",
    "max_length = 14\n",
    "digit_req = 2\n",
    "upper_req = 1\n",
    "spchar_req = 1\n",
    "\n",
    "#intitialize counter variables\n",
    "upper_count = 0\n",
    "digit_count = 0\n",
    "spchar_count = 0\n",
    "\n",
    "#get user to input possible password\n",
    "userpwd = input(\"Please enter your password: \")\n",
    "\n",
    "for char in userpwd:\n",
    "    if char.isupper():\n",
    "        upper_count += 1\n",
    "    if char.isdigit():\n",
    "        digit_count += 1\n",
    "    if char in special_chars:\n",
    "        spchar_count += 1\n",
    "\n",
    "if min_length > len(userpwd) or max_length < len(userpwd):\n",
    "    print (\"Your password is not between \" + str(min_length) + \" and \" + str(max_length) + \"characters.\")\n",
    "\n",
    "if upper_count < upper_req:\n",
    "    if upper_req < 2: \n",
    "        print (\"Error: Your password does not have at least \" + str(upper_req) + \" uppercase letter.\")\n",
    "    if upper_req >= 2:\n",
    "        print (\"Error: Your password does not have at least \" + str(upper_req) + \" uppercase letters.\")\n",
    "\n",
    "if digit_count < digit_req:\n",
    "    if digit_req <2:\n",
    "        print (\"Error: Your password does not have at least \" + str(digit_req) + \" number.\")\n",
    "    if digit_req >= 2:\n",
    "        print (\"Error: Your password does not have at least \" + str(digit_req) + \" numbers.\")\n",
    "\n",
    "if spchar_count < spchar_req:\n",
    "    if spchar_req < 2:\n",
    "        print (\"Error: Your password does not have at least \" + str(spchar_req) + \" special character.\")\n",
    "    if spchar_req >= 2:\n",
    "        print (\"Error: Your password does not have at least \" + str(spchar_req) + \" special character.\")        \n",
    "\n",
    "elif len(userpwd) > min_length and len(userpwd) < max_length and upper_count >= upper_req and digit_count >= digit_req and spchar_count >= spchar_req:\n",
    "    print (\"You have entered a valid password.\")"
   ]
  },
  {
   "cell_type": "markdown",
   "metadata": {},
   "source": [
    "## 6. Exponentiation Function\n",
    "Create a function called **exp** that asks for two digits and then prints an exponentiation, without using the exponentiation operator (`**`). You may assume these are positive integers. Use at least one custom-defined function.\n",
    "\n",
    "For example, some outputs of this function could be:\n",
    "* 2 , 3 => 8\n",
    "* 5 , 4 => 625\n",
    "\n",
    "1. Inputs: \n",
    "  1. An `integer` that will be recursively multiplied\n",
    "  2. An `integer` that will define the number of times to multiply the number to get the exponentiation.\n",
    "2. Outputs: \n",
    "  1. An `integer` that is the result of the exponentiation. \n",
    "\n",
    "`Hint: You can recursively multiply a number. The second number defines the number of times the recursive loop happens. Every time the loop happens, you can redefine the variable that gets multiplied.` "
   ]
  },
  {
   "cell_type": "code",
   "execution_count": null,
   "metadata": {
    "collapsed": false
   },
   "outputs": [],
   "source": [
    "num = 3\n",
    "expo = 4\n",
    "\n",
    "def exp (x, y):\n",
    "    new = 1\n",
    "    for i in range (0, y):\n",
    "        new *= x\n",
    "    print (str(num) + \"^\" + str(expo) + \" = \" + str(new))\n",
    "        \n",
    "exp (num, expo)"
   ]
  },
  {
   "cell_type": "markdown",
   "metadata": {},
   "source": [
    "## 7. Min and Max Functions (Bonus)\n",
    "\n",
    "EXTRA CREDIT\n",
    "\n",
    "Write your own versions of the Python built-in functions **min** and **max**. They should take a list as an argument and return the minimum or maximum element. Assume lists contain numeric items only. \n",
    "\n",
    "1. Inputs: \n",
    "  1. A `list` of `numbers` to be tested. \n",
    "2. Outputs: \n",
    "  1. A `number` of the list that is the maximum or minimum. \n",
    "\n",
    "`Hint: Pick the first element as the minimum(maximum) and then loop through the elements to find a smaller(larger) element. Each time you find a smaller (larger) element, update your minimum (maximum).`"
   ]
  },
  {
   "cell_type": "code",
   "execution_count": 7,
   "metadata": {
    "collapsed": false
   },
   "outputs": [
    {
     "name": "stdout",
     "output_type": "stream",
     "text": [
      "min is: -7\n",
      "max is: 56\n"
     ]
    }
   ],
   "source": [
    "testList = [7, 3, 12, 9, 56, 8, -7, 32, 2]\n",
    "\n",
    "def findmin (list):\n",
    "    min = list[0]\n",
    "    for i in list:\n",
    "        if i < min:\n",
    "            min = i\n",
    "    return min\n",
    "    \n",
    "def findmax (list):\n",
    "    max = list[0]\n",
    "    for i in list:\n",
    "        if i > max:\n",
    "            max = i\n",
    "    return max\n",
    "\n",
    "min = findmin (testList)\n",
    "print (\"min is: \" + str(min))\n",
    "max = findmax (testList)\n",
    "print (\"max is: \" + str(max))"
   ]
  },
  {
   "cell_type": "markdown",
   "metadata": {},
   "source": [
    "## 8. Hangman Game (Bonus)\n",
    "\n",
    "EXTRA CREDIT\n",
    "\n",
    "Implement a basic hangman game through functions.\n",
    "* Show a user the word or phrase (5-15 letters) that they have to guess with dashes as placeholders for unsolved letters. You can hardcode this word into your source.\n",
    "* Prompt the user to guess a letter or solve the puzzle through the user [`input`](https://docs.python.org/2/library/functions.html#input) function. They get up to 8 guesses. After each guess, show the word with any instances of correctly guessed letters filled in. Show the number of tries left. Handle possible issues with user input in a consistent way.\n",
    "* Continue to prompt the user until either they’ve used up their 8 guesses or solved.\n",
    "* If they solve the puzzle in time, show the completed word and a congratulatory message.\n",
    "* If they fail to solve the puzzle, show the completed word and a Game Over message.\n",
    "\n",
    "\n",
    "Here’s a sample transcript.\n",
    "> You have 8 guesses to solve this word. \n",
    "\n",
    ">------------------------------------------   \n",
    "\n",
    ">guess a letter or solve: b \n",
    "\n",
    ">b--b--b--  (7 tries left) \n",
    "\n",
    ">guess a letter or solve: x \n",
    "\n",
    ">b--b--b--  (6 tries left) \n",
    "\n",
    ">guess a letter or solve: e \n",
    "\n",
    ">b--b-ebee  (5 tries left) \n",
    "\n",
    ">guess a letter or solve: bumblebee \n",
    "\n",
    ">bumblebee  (4 tries left) \n",
    "\n",
    ">Congratulations, you won!\n",
    "\n",
    "1. Inputs: \n",
    "  1. A `string` that will be tested to see whether or not it is part of the secret word. \n",
    "2. Outputs: \n",
    "  1. A message that shows the user the number of guessed letters at the time.\n",
    "  2. A **success** message if the user wins, otherwise a **try again** message. \n"
   ]
  },
  {
   "cell_type": "code",
   "execution_count": null,
   "metadata": {
    "collapsed": false
   },
   "outputs": [],
   "source": [
    "#initialization of variables - do not change value\n",
    "letterstried = []\n",
    "\n",
    "#variable variables - can change value\n",
    "secret_word = \"ziggurat\"\n",
    "guesses_left = 8\n",
    "\n",
    "\n",
    "#functions\n",
    "\n",
    "def initializegame (secret_word):\n",
    "    \"\"\"Creates display_word to show to user, \n",
    "      which has as many dashes as secretword has letters.\n",
    "    \n",
    "    Returns display_word.\"\"\"\n",
    "    \n",
    "    display_word = \"\"\n",
    "    for i in secret_word:\n",
    "        display_word += \"-\"\n",
    "    print (\"Welcome to hangman!\")\n",
    "    print (\"The secret word is \" + str(len(secret_word)) + \" letters long.\")\n",
    "    print (\"\")\n",
    "    return display_word\n",
    "\n",
    "\n",
    "def makeaguess (secret_word, display_word, guesses_left, letterstried):\n",
    "    \"\"\"Tells user how many guesses they have left, \n",
    "    asks them to chose to either guess a new letter or guess word.\n",
    "    \n",
    "    Returns display_word, guesses_left as list.\n",
    "    \"\"\"\n",
    "      \n",
    "    print (\"You have \" + str(guesses_left) + \" guesses left.\")\n",
    "    print (\"Here is your word thus far: \" + display_word)\n",
    "    print (\"\")\n",
    "    \n",
    "    while True:\n",
    "        input_type = input (\"Enter 1 to guess a letter or 2 to solve the game: \")\n",
    "        if input_type == \"1\":\n",
    "            letter_guess = input (\"Please guess a letter: \")\n",
    "            if letter_guess.isalpha() == False:\n",
    "                print (\"I'm sorry. You need to enter a letter. Please try again.\")\n",
    "                print (\"\")\n",
    "            if len(letter_guess) != 1:\n",
    "                print (\"I'm sorry. You need to guess a single letter. Please try again\")\n",
    "                print (\"\")\n",
    "            if letterstried.count(letter_guess) > 0:\n",
    "                print (\"You've already tried that letter. Please try again.\")\n",
    "                print (\"\")\n",
    "            elif letterstried.count(letter_guess) == 0: \n",
    "                letterstried.append(letter_guess)\n",
    "                evalvalues = evalletter (letter_guess, secret_word, display_word, guesses_left)\n",
    "                display_word = evalvalues[0]\n",
    "                guesses_left = evalvalues[1]\n",
    "                break\n",
    "        if input_type == \"2\":\n",
    "            word_guess = input (\"Please enter your word: \")\n",
    "            if word_guess == secret_word:\n",
    "                display_word = word_guess\n",
    "                break\n",
    "            else:\n",
    "                print (\"Sorry, that's not the word.\")\n",
    "                guesses_left -= 1\n",
    "                break\n",
    "        elif input_type != \"1\" and input_type !=\"2\":\n",
    "            print (\"I'm sorry, you didn't enter either 1 or 2. Let's try again.\")\n",
    "            print (\"\")\n",
    "            \n",
    "    return [display_word, guesses_left]\n",
    "    \n",
    "\n",
    "def evalletter (letter_guess, secret_word, display_word, guesses_left):\n",
    "    \"\"\"Checks to see if user's guessed letter is in secret word. \n",
    "    If so, modifies the display word to display letter(s) in proper location.\n",
    "    If not, deducts one guess from number of remaining guesses.\n",
    "    \n",
    "    Returns display_word, guesses_left as list.\n",
    "    \"\"\"\n",
    "\n",
    "    if letter_guess in secret_word:\n",
    "        print (\"Congratulations, your letter is in the word!\")\n",
    "        print (\"\")\n",
    "        i=0\n",
    "        for char in secret_word:\n",
    "            i += 1\n",
    "            if char == letter_guess:\n",
    "                display_word = display_word[:i-1] + letter_guess + display_word[i:]\n",
    "    else:\n",
    "        print (\"Sorry, your letter is not in the word.\")\n",
    "        guesses_left -= 1\n",
    "    \n",
    "    return [display_word, guesses_left]        \n",
    "\n",
    "\n",
    "\n",
    "#run game\n",
    "\n",
    "display_word = initializegame (secret_word)\n",
    "while display_word != secret_word and guesses_left > 0:\n",
    "    updatedvalues = makeaguess (secret_word, display_word, guesses_left, letterstried)\n",
    "    display_word = updatedvalues[0]\n",
    "    guesses_left = updatedvalues[1]\n",
    "if display_word == secret_word:\n",
    "    print (\"Congratulations, you won!\")\n",
    "    print (\"The word was \" + secret_word)\n",
    "if guesses_left == 0:\n",
    "    print (\"You have used all of your guesses.\")\n",
    "    print (\"The word was \" + secret_word)\n",
    "    print (\"Sorry, you lost.\")"
   ]
  },
  {
   "cell_type": "code",
   "execution_count": null,
   "metadata": {
    "collapsed": true
   },
   "outputs": [],
   "source": []
  },
  {
   "cell_type": "code",
   "execution_count": null,
   "metadata": {
    "collapsed": true
   },
   "outputs": [],
   "source": []
  }
 ],
 "metadata": {
  "kernelspec": {
   "display_name": "Python 3",
   "language": "python",
   "name": "python3"
  },
  "language_info": {
   "codemirror_mode": {
    "name": "ipython",
    "version": 3
   },
   "file_extension": ".py",
   "mimetype": "text/x-python",
   "name": "python",
   "nbconvert_exporter": "python",
   "pygments_lexer": "ipython3",
   "version": "3.6.0"
  }
 },
 "nbformat": 4,
 "nbformat_minor": 0
}
