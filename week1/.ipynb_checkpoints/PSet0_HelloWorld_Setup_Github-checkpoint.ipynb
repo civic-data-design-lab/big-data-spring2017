{
 "cells": [
  {
   "cell_type": "markdown",
   "metadata": {},
   "source": [
    "# Problem Set 0: \"Hello World\" - Setup a Github Homepage"
   ]
  },
  {
   "cell_type": "markdown",
   "metadata": {},
   "source": [
    "This problem set is straightforward and designed to get you started, and has a goal of helping you set up a website and becoming more familiar with Github. For your deliverable, you are going to create a simple website that says Hello World. You can customize it and add your bio, a couple of links, whatever you want.\n",
    "\n",
    "`On the assignment tab of the course Stellar website, submit the link to your github page.`"
   ]
  },
  {
   "cell_type": "markdown",
   "metadata": {},
   "source": [
    "### 1. Create your github.io page"
   ]
  },
  {
   "cell_type": "markdown",
   "metadata": {},
   "source": [
    "Following the instructions found in Part 1 of the in-class tutorial, create your github homepage. On this page, include atleast the following:\n",
    "\n",
    "1. Heading with your name\n",
    "2. Paragraph containing a short text bio or introduction\n",
    "3. An image and link to a visualization project you find inspiring\n",
    "\n",
    "This is your github homepage that you can use as your own website. You can set this up however you like, and can take it with you after you leave MIT. In class, we will revisit this page later in the course when we work to expand our knowledge of HTML, CSS, and JavaScript, and it can ultimately be used to host your final project. You can then customize it further, add more content, and do some design and styling.\n",
    "\n",
    "Use this exercise to get all of the software and tools, ie Github, Conda, Sublime Text, installed and running on your machine.\n",
    "\n",
    "Next week, we will **DIVE INTO PYTHON!**"
   ]
  },
  {
   "cell_type": "markdown",
   "metadata": {
    "collapsed": true
   },
   "source": [
    "### 2. Clone your copy of the Course Github Repository\n",
    "\n",
    "For next week, you want your own copy of the course Github repo. Once you have completed setup, clone a copy of the course repository into your own Github folder on your machine."
   ]
  },
  {
   "cell_type": "markdown",
   "metadata": {},
   "source": [
    "***\n",
    "\n",
    "```sh\n",
    "git clone git@github.com:civic-data-design-lab/big-data-spring2017.git\n",
    "```\n",
    "\n",
    "***"
   ]
  },
  {
   "cell_type": "markdown",
   "metadata": {},
   "source": [
    "Next week, we will add more materials for the course, and you can pull them into your remote repository."
   ]
  },
  {
   "cell_type": "code",
   "execution_count": null,
   "metadata": {
    "collapsed": true
   },
   "outputs": [],
   "source": []
  }
 ],
 "metadata": {
  "kernelspec": {
   "display_name": "Python 3",
   "language": "python",
   "name": "python3"
  },
  "language_info": {
   "codemirror_mode": {
    "name": "ipython",
    "version": 3
   },
   "file_extension": ".py",
   "mimetype": "text/x-python",
   "name": "python",
   "nbconvert_exporter": "python",
   "pygments_lexer": "ipython3",
   "version": "3.5.1"
  }
 },
 "nbformat": 4,
 "nbformat_minor": 0
}
